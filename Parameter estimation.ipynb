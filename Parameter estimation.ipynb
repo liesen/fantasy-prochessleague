{
 "cells": [
  {
   "cell_type": "code",
   "execution_count": 1,
   "metadata": {},
   "outputs": [],
   "source": [
    "import chess\n",
    "import chess.pgn\n",
    "from elo import Elo\n",
    "import glob\n",
    "import numpy as np\n",
    "import pandas as pd"
   ]
  },
  {
   "cell_type": "code",
   "execution_count": 2,
   "metadata": {},
   "outputs": [],
   "source": [
    "# Hypothesis: there are fewer draws in these rapid games than in OTB games. I assume\n",
    "# that the parameters used in the Elo library have been calibrated for OTB games. So,\n",
    "# here I try to find new values for advantage for white (presumably higher than .1)\n",
    "# and draw \"advantage\" (presumably lower than .6)."
   ]
  },
  {
   "cell_type": "code",
   "execution_count": 3,
   "metadata": {},
   "outputs": [],
   "source": [
    "def read_games(handle):\n",
    "    while True:\n",
    "        game = chess.pgn.read_game(handle)\n",
    "        \n",
    "        if game is None:\n",
    "            return\n",
    "        \n",
    "        yield game"
   ]
  },
  {
   "cell_type": "code",
   "execution_count": 4,
   "metadata": {},
   "outputs": [],
   "source": [
    "games = pd.DataFrame(game.headers\n",
    "                     for file in glob.glob('games/**/*.pgn', recursive=True)\n",
    "                     for game in read_games(open(file))\n",
    "                     if 'WhiteElo' in game.headers and 'BlackElo' in game.headers)"
   ]
  },
  {
   "cell_type": "code",
   "execution_count": 5,
   "metadata": {},
   "outputs": [
    {
     "data": {
      "text/html": [
       "<div>\n",
       "<style>\n",
       "    .dataframe thead tr:only-child th {\n",
       "        text-align: right;\n",
       "    }\n",
       "\n",
       "    .dataframe thead th {\n",
       "        text-align: left;\n",
       "    }\n",
       "\n",
       "    .dataframe tbody tr th {\n",
       "        vertical-align: top;\n",
       "    }\n",
       "</style>\n",
       "<table border=\"1\" class=\"dataframe\">\n",
       "  <thead>\n",
       "    <tr style=\"text-align: right;\">\n",
       "      <th></th>\n",
       "      <th>Event</th>\n",
       "      <th>Site</th>\n",
       "      <th>Date</th>\n",
       "      <th>Round</th>\n",
       "      <th>White</th>\n",
       "      <th>Black</th>\n",
       "      <th>Result</th>\n",
       "      <th>WhiteTitle</th>\n",
       "      <th>BlackTitle</th>\n",
       "      <th>WhiteElo</th>\n",
       "      <th>BlackElo</th>\n",
       "      <th>ECO</th>\n",
       "      <th>Opening</th>\n",
       "      <th>Variation</th>\n",
       "      <th>WhiteTeam</th>\n",
       "      <th>BlackTeam</th>\n",
       "      <th>WhiteFideId</th>\n",
       "      <th>BlackFideId</th>\n",
       "      <th>EventDate</th>\n",
       "    </tr>\n",
       "  </thead>\n",
       "  <tbody>\n",
       "    <tr>\n",
       "      <th>0</th>\n",
       "      <td>PRO League Group Stage</td>\n",
       "      <td>chess.com INT</td>\n",
       "      <td>2018.01.18</td>\n",
       "      <td>1</td>\n",
       "      <td>Puranik, Abhimanyu</td>\n",
       "      <td>Gupta, Abhijeet</td>\n",
       "      <td>0-1</td>\n",
       "      <td>GM</td>\n",
       "      <td>GM</td>\n",
       "      <td>2520</td>\n",
       "      <td>2610</td>\n",
       "      <td>C07</td>\n",
       "      <td>French</td>\n",
       "      <td>Tarrasch, Eliskases variation</td>\n",
       "      <td>Mumbai Movers</td>\n",
       "      <td>Delhi Dynamite</td>\n",
       "      <td>5061245</td>\n",
       "      <td>5010608</td>\n",
       "      <td>2018.01.18</td>\n",
       "    </tr>\n",
       "    <tr>\n",
       "      <th>1</th>\n",
       "      <td>PRO League Group Stage</td>\n",
       "      <td>chess.com INT</td>\n",
       "      <td>2018.01.18</td>\n",
       "      <td>1</td>\n",
       "      <td>Puranik, Abhimanyu</td>\n",
       "      <td>Aradhya, Garg</td>\n",
       "      <td>1-0</td>\n",
       "      <td>GM</td>\n",
       "      <td>NaN</td>\n",
       "      <td>2520</td>\n",
       "      <td>2289</td>\n",
       "      <td>C72</td>\n",
       "      <td>Ruy Lopez</td>\n",
       "      <td>modern Steinitz defence, 5.O-O</td>\n",
       "      <td>Mumbai Movers</td>\n",
       "      <td>Delhi Dynamite</td>\n",
       "      <td>5061245</td>\n",
       "      <td>25006746</td>\n",
       "      <td>2018.01.18</td>\n",
       "    </tr>\n",
       "    <tr>\n",
       "      <th>2</th>\n",
       "      <td>PRO League Group Stage</td>\n",
       "      <td>chess.com INT</td>\n",
       "      <td>2018.01.18</td>\n",
       "      <td>1</td>\n",
       "      <td>Gupta, Abhijeet</td>\n",
       "      <td>Kunte, Abhijit</td>\n",
       "      <td>1/2-1/2</td>\n",
       "      <td>GM</td>\n",
       "      <td>GM</td>\n",
       "      <td>2610</td>\n",
       "      <td>2499</td>\n",
       "      <td>A15</td>\n",
       "      <td>English opening</td>\n",
       "      <td>NaN</td>\n",
       "      <td>Delhi Dynamite</td>\n",
       "      <td>Mumbai Movers</td>\n",
       "      <td>5010608</td>\n",
       "      <td>5002265</td>\n",
       "      <td>2018.01.18</td>\n",
       "    </tr>\n",
       "    <tr>\n",
       "      <th>3</th>\n",
       "      <td>PRO League Group Stage</td>\n",
       "      <td>chess.com INT</td>\n",
       "      <td>2018.01.18</td>\n",
       "      <td>1</td>\n",
       "      <td>Gupta, Abhijeet</td>\n",
       "      <td>Ghosh, Diptayan</td>\n",
       "      <td>1-0</td>\n",
       "      <td>GM</td>\n",
       "      <td>GM</td>\n",
       "      <td>2610</td>\n",
       "      <td>2556</td>\n",
       "      <td>A05</td>\n",
       "      <td>Reti</td>\n",
       "      <td>King's Indian attack</td>\n",
       "      <td>Delhi Dynamite</td>\n",
       "      <td>Mumbai Movers</td>\n",
       "      <td>5010608</td>\n",
       "      <td>5045207</td>\n",
       "      <td>2018.01.18</td>\n",
       "    </tr>\n",
       "    <tr>\n",
       "      <th>4</th>\n",
       "      <td>PRO League Group Stage</td>\n",
       "      <td>chess.com INT</td>\n",
       "      <td>2018.01.18</td>\n",
       "      <td>1</td>\n",
       "      <td>Kunte, Abhijit</td>\n",
       "      <td>Lalith, Babu M R</td>\n",
       "      <td>1/2-1/2</td>\n",
       "      <td>GM</td>\n",
       "      <td>GM</td>\n",
       "      <td>2499</td>\n",
       "      <td>2542</td>\n",
       "      <td>A14</td>\n",
       "      <td>English</td>\n",
       "      <td>Neo-Catalan declined</td>\n",
       "      <td>Mumbai Movers</td>\n",
       "      <td>Delhi Dynamite</td>\n",
       "      <td>5002265</td>\n",
       "      <td>5024595</td>\n",
       "      <td>2018.01.18</td>\n",
       "    </tr>\n",
       "  </tbody>\n",
       "</table>\n",
       "</div>"
      ],
      "text/plain": [
       "                    Event           Site        Date Round  \\\n",
       "0  PRO League Group Stage  chess.com INT  2018.01.18     1   \n",
       "1  PRO League Group Stage  chess.com INT  2018.01.18     1   \n",
       "2  PRO League Group Stage  chess.com INT  2018.01.18     1   \n",
       "3  PRO League Group Stage  chess.com INT  2018.01.18     1   \n",
       "4  PRO League Group Stage  chess.com INT  2018.01.18     1   \n",
       "\n",
       "                White             Black   Result WhiteTitle BlackTitle  \\\n",
       "0  Puranik, Abhimanyu   Gupta, Abhijeet      0-1         GM         GM   \n",
       "1  Puranik, Abhimanyu     Aradhya, Garg      1-0         GM        NaN   \n",
       "2     Gupta, Abhijeet    Kunte, Abhijit  1/2-1/2         GM         GM   \n",
       "3     Gupta, Abhijeet   Ghosh, Diptayan      1-0         GM         GM   \n",
       "4      Kunte, Abhijit  Lalith, Babu M R  1/2-1/2         GM         GM   \n",
       "\n",
       "  WhiteElo BlackElo  ECO          Opening                       Variation  \\\n",
       "0     2520     2610  C07           French   Tarrasch, Eliskases variation   \n",
       "1     2520     2289  C72        Ruy Lopez  modern Steinitz defence, 5.O-O   \n",
       "2     2610     2499  A15  English opening                             NaN   \n",
       "3     2610     2556  A05             Reti            King's Indian attack   \n",
       "4     2499     2542  A14          English            Neo-Catalan declined   \n",
       "\n",
       "        WhiteTeam       BlackTeam WhiteFideId BlackFideId   EventDate  \n",
       "0   Mumbai Movers  Delhi Dynamite     5061245     5010608  2018.01.18  \n",
       "1   Mumbai Movers  Delhi Dynamite     5061245    25006746  2018.01.18  \n",
       "2  Delhi Dynamite   Mumbai Movers     5010608     5002265  2018.01.18  \n",
       "3  Delhi Dynamite   Mumbai Movers     5010608     5045207  2018.01.18  \n",
       "4   Mumbai Movers  Delhi Dynamite     5002265     5024595  2018.01.18  "
      ]
     },
     "execution_count": 5,
     "metadata": {},
     "output_type": "execute_result"
    }
   ],
   "source": [
    "games.head()"
   ]
  },
  {
   "cell_type": "code",
   "execution_count": 6,
   "metadata": {},
   "outputs": [],
   "source": [
    "def g(x):\n",
    "    s = x['Result']\n",
    "    return pd.Series({'white': 1 if s == '1-0' else 0,\n",
    "                      'black': 1 if s == '0-1' else 0,\n",
    "                      'draw': 1 if s == '1/2-1/2' else 0})\n",
    "    # return pd.Series([1, 0] if s == '1-0' else [0, 1] if s == '0-1' else [.5, .5], index=['white', 'black'])\n",
    "\n",
    "obs = games.apply(g, axis=1)"
   ]
  },
  {
   "cell_type": "code",
   "execution_count": 7,
   "metadata": {},
   "outputs": [
    {
     "data": {
      "text/html": [
       "<div>\n",
       "<style>\n",
       "    .dataframe thead tr:only-child th {\n",
       "        text-align: right;\n",
       "    }\n",
       "\n",
       "    .dataframe thead th {\n",
       "        text-align: left;\n",
       "    }\n",
       "\n",
       "    .dataframe tbody tr th {\n",
       "        vertical-align: top;\n",
       "    }\n",
       "</style>\n",
       "<table border=\"1\" class=\"dataframe\">\n",
       "  <thead>\n",
       "    <tr style=\"text-align: right;\">\n",
       "      <th></th>\n",
       "      <th>black</th>\n",
       "      <th>draw</th>\n",
       "      <th>white</th>\n",
       "    </tr>\n",
       "  </thead>\n",
       "  <tbody>\n",
       "    <tr>\n",
       "      <th>0</th>\n",
       "      <td>1</td>\n",
       "      <td>0</td>\n",
       "      <td>0</td>\n",
       "    </tr>\n",
       "    <tr>\n",
       "      <th>1</th>\n",
       "      <td>0</td>\n",
       "      <td>0</td>\n",
       "      <td>1</td>\n",
       "    </tr>\n",
       "    <tr>\n",
       "      <th>2</th>\n",
       "      <td>0</td>\n",
       "      <td>1</td>\n",
       "      <td>0</td>\n",
       "    </tr>\n",
       "    <tr>\n",
       "      <th>3</th>\n",
       "      <td>0</td>\n",
       "      <td>0</td>\n",
       "      <td>1</td>\n",
       "    </tr>\n",
       "    <tr>\n",
       "      <th>4</th>\n",
       "      <td>0</td>\n",
       "      <td>1</td>\n",
       "      <td>0</td>\n",
       "    </tr>\n",
       "  </tbody>\n",
       "</table>\n",
       "</div>"
      ],
      "text/plain": [
       "   black  draw  white\n",
       "0      1     0      0\n",
       "1      0     0      1\n",
       "2      0     1      0\n",
       "3      0     0      1\n",
       "4      0     1      0"
      ]
     },
     "execution_count": 7,
     "metadata": {},
     "output_type": "execute_result"
    }
   ],
   "source": [
    "obs.head()"
   ]
  },
  {
   "cell_type": "code",
   "execution_count": 8,
   "metadata": {},
   "outputs": [
    {
     "name": "stdout",
     "output_type": "stream",
     "text": [
      "Event                 PRO League Group Stage\n",
      "Site                           chess.com INT\n",
      "Date                              2018.01.18\n",
      "Round                                      1\n",
      "White                     Puranik, Abhimanyu\n",
      "Black                        Gupta, Abhijeet\n",
      "Result                                   0-1\n",
      "WhiteTitle                                GM\n",
      "BlackTitle                                GM\n",
      "WhiteElo                                2520\n",
      "BlackElo                                2610\n",
      "ECO                                      C07\n",
      "Opening                               French\n",
      "Variation      Tarrasch, Eliskases variation\n",
      "WhiteTeam                      Mumbai Movers\n",
      "BlackTeam                     Delhi Dynamite\n",
      "WhiteFideId                          5061245\n",
      "BlackFideId                          5010608\n",
      "EventDate                         2018.01.18\n",
      "Name: 0, dtype: object\n"
     ]
    }
   ],
   "source": [
    "print(games.loc[0])"
   ]
  },
  {
   "cell_type": "code",
   "execution_count": 9,
   "metadata": {},
   "outputs": [],
   "source": [
    "import scipy.optimize"
   ]
  },
  {
   "cell_type": "code",
   "execution_count": 10,
   "metadata": {},
   "outputs": [],
   "source": [
    "def fun(x):\n",
    "    white_advantage = x[0]\n",
    "    draw_odds_advantage = x[1]\n",
    "    elo = Elo(white_advantage, draw_odds_advantage)\n",
    "    elo_prob = games.apply(lambda x: pd.Series(elo.probabilities(int(x['WhiteElo']), int(x['BlackElo']))), axis=1)\n",
    "    return ((elo_prob - obs)**2).sum().sum()  # I have no idea what I'm doing: least squares for multiple series?!"
   ]
  },
  {
   "cell_type": "code",
   "execution_count": 11,
   "metadata": {},
   "outputs": [
    {
     "data": {
      "text/plain": [
       "1071.2502445239247"
      ]
     },
     "execution_count": 11,
     "metadata": {},
     "output_type": "execute_result"
    }
   ],
   "source": [
    "fun([.1, .6])"
   ]
  },
  {
   "cell_type": "code",
   "execution_count": 12,
   "metadata": {},
   "outputs": [
    {
     "name": "stdout",
     "output_type": "stream",
     "text": [
      "CPU times: user 1min 15s, sys: 225 ms, total: 1min 15s\n",
      "Wall time: 1min 16s\n"
     ]
    }
   ],
   "source": [
    "%%time\n",
    "res = scipy.optimize.minimize(fun, [.1, .6], bounds=[(0, 1), (0, 1)])"
   ]
  },
  {
   "cell_type": "code",
   "execution_count": null,
   "metadata": {},
   "outputs": [],
   "source": []
  },
  {
   "cell_type": "code",
   "execution_count": 13,
   "metadata": {},
   "outputs": [
    {
     "data": {
      "text/plain": [
       "      fun: 1029.461683341789\n",
       " hess_inv: <2x2 LbfgsInvHessProduct with dtype=float64>\n",
       "      jac: array([ 105367.26149439,     160.9547553 ])\n",
       "  message: b'CONVERGENCE: REL_REDUCTION_OF_F_<=_FACTR*EPSMCH'\n",
       "     nfev: 132\n",
       "      nit: 6\n",
       "   status: 0\n",
       "  success: True\n",
       "        x: array([ 0.33542897,  0.46681261])"
      ]
     },
     "execution_count": 13,
     "metadata": {},
     "output_type": "execute_result"
    }
   ],
   "source": [
    "res"
   ]
  },
  {
   "cell_type": "code",
   "execution_count": 14,
   "metadata": {},
   "outputs": [],
   "source": [
    "white_advantage = res.x[0]\n",
    "draw_odds_advantage = res.x[1]"
   ]
  },
  {
   "cell_type": "code",
   "execution_count": 15,
   "metadata": {},
   "outputs": [],
   "source": [
    "def gun(x):\n",
    "    white_advantage = x[0]\n",
    "    draw_odds_advantage = x[1]\n",
    "    elo = Elo(white_advantage, draw_odds_advantage)\n",
    "    elo_prob = games.apply(lambda x: pd.Series(elo.probabilities(int(x['WhiteElo']), int(x['BlackElo']))), axis=1)\n",
    "    return (elo_prob - obs).unstack()"
   ]
  },
  {
   "cell_type": "code",
   "execution_count": 16,
   "metadata": {},
   "outputs": [
    {
     "data": {
      "text/plain": [
       " active_mask: array([0, 0])\n",
       "        cost: 505.65877455077737\n",
       "         fun: array([-0.53875311,  0.11273378,  0.1956488 , ..., -0.65434695,\n",
       "       -0.65953781,  0.18224532])\n",
       "        grad: array([ 0.72038697, -0.16727856])\n",
       "         jac: array([[ 0.02463602, -0.36092618],\n",
       "       [ 0.01978862, -0.20764379],\n",
       "       [ 0.02527049, -0.33983159],\n",
       "       ..., \n",
       "       [ 0.02144431, -0.4179398 ],\n",
       "       [ 0.02199885, -0.41566149],\n",
       "       [ 0.0210231 , -0.24428105]])\n",
       "     message: '`ftol` termination condition is satisfied.'\n",
       "        nfev: 19\n",
       "        njev: 8\n",
       "  optimality: 0.11281331279847739\n",
       "      status: 2\n",
       "     success: True\n",
       "           x: array([ 0.08616573,  0.3255961 ])"
      ]
     },
     "execution_count": 16,
     "metadata": {},
     "output_type": "execute_result"
    }
   ],
   "source": [
    "scipy.optimize.least_squares(gun, [.1, .6], bounds=[[0, 0], [1, 1]])"
   ]
  },
  {
   "cell_type": "code",
   "execution_count": null,
   "metadata": {},
   "outputs": [],
   "source": []
  }
 ],
 "metadata": {
  "kernelspec": {
   "display_name": "Python 3",
   "language": "python",
   "name": "python3"
  },
  "language_info": {
   "codemirror_mode": {
    "name": "ipython",
    "version": 3
   },
   "file_extension": ".py",
   "mimetype": "text/x-python",
   "name": "python",
   "nbconvert_exporter": "python",
   "pygments_lexer": "ipython3",
   "version": "3.6.0"
  }
 },
 "nbformat": 4,
 "nbformat_minor": 2
}
