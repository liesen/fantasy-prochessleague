{
 "cells": [
  {
   "cell_type": "code",
   "execution_count": 45,
   "metadata": {},
   "outputs": [],
   "source": [
    "import chess\n",
    "import chess.pgn\n",
    "from elo import Elo\n",
    "import glob\n",
    "import numpy as np\n",
    "import pandas as pd"
   ]
  },
  {
   "cell_type": "code",
   "execution_count": 34,
   "metadata": {},
   "outputs": [],
   "source": [
    "# Hypothesis: there are fewer draws in these rapid games than in OTB games. I assume\n",
    "# that the parameters used in the Elo library have been calibrated for OTB games. So,\n",
    "# here I try to find new values for advantage for white (presumably higher than .1)\n",
    "# and draw \"advantage\" (presumably lower than .6)."
   ]
  },
  {
   "cell_type": "code",
   "execution_count": 35,
   "metadata": {},
   "outputs": [],
   "source": [
    "def read_games(handle):\n",
    "    while True:\n",
    "        game = chess.pgn.read_game(handle)\n",
    "        \n",
    "        if game is None:\n",
    "            return\n",
    "        \n",
    "        yield game"
   ]
  },
  {
   "cell_type": "code",
   "execution_count": 36,
   "metadata": {},
   "outputs": [],
   "source": [
    "games = pd.DataFrame(game.headers\n",
    "                     for file in glob.glob('games/**/*.pgn', recursive=True)\n",
    "                     for game in read_games(open(file))\n",
    "                     if 'WhiteElo' in game.headers and 'BlackElo' in game.headers)"
   ]
  },
  {
   "cell_type": "code",
   "execution_count": 37,
   "metadata": {},
   "outputs": [
    {
     "name": "stdout",
     "output_type": "stream",
     "text": [
      "<class 'pandas.core.frame.DataFrame'>\n",
      "RangeIndex: 2257 entries, 0 to 2256\n",
      "Data columns (total 19 columns):\n",
      "Event          2257 non-null object\n",
      "Site           2257 non-null object\n",
      "Date           2257 non-null object\n",
      "Round          2257 non-null object\n",
      "White          2257 non-null object\n",
      "Black          2257 non-null object\n",
      "Result         2257 non-null object\n",
      "WhiteTitle     2045 non-null object\n",
      "BlackTitle     2052 non-null object\n",
      "WhiteElo       2257 non-null object\n",
      "BlackElo       2257 non-null object\n",
      "ECO            2257 non-null object\n",
      "Opening        2257 non-null object\n",
      "Variation      1443 non-null object\n",
      "WhiteTeam      2257 non-null object\n",
      "BlackTeam      2257 non-null object\n",
      "WhiteFideId    2257 non-null object\n",
      "BlackFideId    2257 non-null object\n",
      "EventDate      2257 non-null object\n",
      "dtypes: object(19)\n",
      "memory usage: 335.1+ KB\n"
     ]
    }
   ],
   "source": [
    "games.info()"
   ]
  },
  {
   "cell_type": "code",
   "execution_count": 54,
   "metadata": {},
   "outputs": [
    {
     "data": {
      "text/html": [
       "<div>\n",
       "<style>\n",
       "    .dataframe thead tr:only-child th {\n",
       "        text-align: right;\n",
       "    }\n",
       "\n",
       "    .dataframe thead th {\n",
       "        text-align: left;\n",
       "    }\n",
       "\n",
       "    .dataframe tbody tr th {\n",
       "        vertical-align: top;\n",
       "    }\n",
       "</style>\n",
       "<table border=\"1\" class=\"dataframe\">\n",
       "  <thead>\n",
       "    <tr style=\"text-align: right;\">\n",
       "      <th></th>\n",
       "      <th>Event</th>\n",
       "      <th>Site</th>\n",
       "      <th>Date</th>\n",
       "      <th>Round</th>\n",
       "      <th>White</th>\n",
       "      <th>Black</th>\n",
       "      <th>Result</th>\n",
       "      <th>WhiteTitle</th>\n",
       "      <th>BlackTitle</th>\n",
       "      <th>WhiteElo</th>\n",
       "      <th>BlackElo</th>\n",
       "      <th>ECO</th>\n",
       "      <th>Opening</th>\n",
       "      <th>Variation</th>\n",
       "      <th>WhiteTeam</th>\n",
       "      <th>BlackTeam</th>\n",
       "      <th>WhiteFideId</th>\n",
       "      <th>BlackFideId</th>\n",
       "      <th>EventDate</th>\n",
       "    </tr>\n",
       "  </thead>\n",
       "  <tbody>\n",
       "    <tr>\n",
       "      <th>0</th>\n",
       "      <td>PRO League Group Stage</td>\n",
       "      <td>chess.com INT</td>\n",
       "      <td>2018.01.18</td>\n",
       "      <td>1</td>\n",
       "      <td>Puranik, Abhimanyu</td>\n",
       "      <td>Gupta, Abhijeet</td>\n",
       "      <td>0-1</td>\n",
       "      <td>GM</td>\n",
       "      <td>GM</td>\n",
       "      <td>2520</td>\n",
       "      <td>2610</td>\n",
       "      <td>C07</td>\n",
       "      <td>French</td>\n",
       "      <td>Tarrasch, Eliskases variation</td>\n",
       "      <td>Mumbai Movers</td>\n",
       "      <td>Delhi Dynamite</td>\n",
       "      <td>5061245</td>\n",
       "      <td>5010608</td>\n",
       "      <td>2018.01.18</td>\n",
       "    </tr>\n",
       "    <tr>\n",
       "      <th>1</th>\n",
       "      <td>PRO League Group Stage</td>\n",
       "      <td>chess.com INT</td>\n",
       "      <td>2018.01.18</td>\n",
       "      <td>1</td>\n",
       "      <td>Puranik, Abhimanyu</td>\n",
       "      <td>Aradhya, Garg</td>\n",
       "      <td>1-0</td>\n",
       "      <td>GM</td>\n",
       "      <td>NaN</td>\n",
       "      <td>2520</td>\n",
       "      <td>2289</td>\n",
       "      <td>C72</td>\n",
       "      <td>Ruy Lopez</td>\n",
       "      <td>modern Steinitz defence, 5.O-O</td>\n",
       "      <td>Mumbai Movers</td>\n",
       "      <td>Delhi Dynamite</td>\n",
       "      <td>5061245</td>\n",
       "      <td>25006746</td>\n",
       "      <td>2018.01.18</td>\n",
       "    </tr>\n",
       "    <tr>\n",
       "      <th>2</th>\n",
       "      <td>PRO League Group Stage</td>\n",
       "      <td>chess.com INT</td>\n",
       "      <td>2018.01.18</td>\n",
       "      <td>1</td>\n",
       "      <td>Gupta, Abhijeet</td>\n",
       "      <td>Kunte, Abhijit</td>\n",
       "      <td>1/2-1/2</td>\n",
       "      <td>GM</td>\n",
       "      <td>GM</td>\n",
       "      <td>2610</td>\n",
       "      <td>2499</td>\n",
       "      <td>A15</td>\n",
       "      <td>English opening</td>\n",
       "      <td>NaN</td>\n",
       "      <td>Delhi Dynamite</td>\n",
       "      <td>Mumbai Movers</td>\n",
       "      <td>5010608</td>\n",
       "      <td>5002265</td>\n",
       "      <td>2018.01.18</td>\n",
       "    </tr>\n",
       "    <tr>\n",
       "      <th>3</th>\n",
       "      <td>PRO League Group Stage</td>\n",
       "      <td>chess.com INT</td>\n",
       "      <td>2018.01.18</td>\n",
       "      <td>1</td>\n",
       "      <td>Gupta, Abhijeet</td>\n",
       "      <td>Ghosh, Diptayan</td>\n",
       "      <td>1-0</td>\n",
       "      <td>GM</td>\n",
       "      <td>GM</td>\n",
       "      <td>2610</td>\n",
       "      <td>2556</td>\n",
       "      <td>A05</td>\n",
       "      <td>Reti</td>\n",
       "      <td>King's Indian attack</td>\n",
       "      <td>Delhi Dynamite</td>\n",
       "      <td>Mumbai Movers</td>\n",
       "      <td>5010608</td>\n",
       "      <td>5045207</td>\n",
       "      <td>2018.01.18</td>\n",
       "    </tr>\n",
       "    <tr>\n",
       "      <th>4</th>\n",
       "      <td>PRO League Group Stage</td>\n",
       "      <td>chess.com INT</td>\n",
       "      <td>2018.01.18</td>\n",
       "      <td>1</td>\n",
       "      <td>Kunte, Abhijit</td>\n",
       "      <td>Lalith, Babu M R</td>\n",
       "      <td>1/2-1/2</td>\n",
       "      <td>GM</td>\n",
       "      <td>GM</td>\n",
       "      <td>2499</td>\n",
       "      <td>2542</td>\n",
       "      <td>A14</td>\n",
       "      <td>English</td>\n",
       "      <td>Neo-Catalan declined</td>\n",
       "      <td>Mumbai Movers</td>\n",
       "      <td>Delhi Dynamite</td>\n",
       "      <td>5002265</td>\n",
       "      <td>5024595</td>\n",
       "      <td>2018.01.18</td>\n",
       "    </tr>\n",
       "  </tbody>\n",
       "</table>\n",
       "</div>"
      ],
      "text/plain": [
       "                    Event           Site        Date Round  \\\n",
       "0  PRO League Group Stage  chess.com INT  2018.01.18     1   \n",
       "1  PRO League Group Stage  chess.com INT  2018.01.18     1   \n",
       "2  PRO League Group Stage  chess.com INT  2018.01.18     1   \n",
       "3  PRO League Group Stage  chess.com INT  2018.01.18     1   \n",
       "4  PRO League Group Stage  chess.com INT  2018.01.18     1   \n",
       "\n",
       "                White             Black   Result WhiteTitle BlackTitle  \\\n",
       "0  Puranik, Abhimanyu   Gupta, Abhijeet      0-1         GM         GM   \n",
       "1  Puranik, Abhimanyu     Aradhya, Garg      1-0         GM        NaN   \n",
       "2     Gupta, Abhijeet    Kunte, Abhijit  1/2-1/2         GM         GM   \n",
       "3     Gupta, Abhijeet   Ghosh, Diptayan      1-0         GM         GM   \n",
       "4      Kunte, Abhijit  Lalith, Babu M R  1/2-1/2         GM         GM   \n",
       "\n",
       "  WhiteElo BlackElo  ECO          Opening                       Variation  \\\n",
       "0     2520     2610  C07           French   Tarrasch, Eliskases variation   \n",
       "1     2520     2289  C72        Ruy Lopez  modern Steinitz defence, 5.O-O   \n",
       "2     2610     2499  A15  English opening                             NaN   \n",
       "3     2610     2556  A05             Reti            King's Indian attack   \n",
       "4     2499     2542  A14          English            Neo-Catalan declined   \n",
       "\n",
       "        WhiteTeam       BlackTeam WhiteFideId BlackFideId   EventDate  \n",
       "0   Mumbai Movers  Delhi Dynamite     5061245     5010608  2018.01.18  \n",
       "1   Mumbai Movers  Delhi Dynamite     5061245    25006746  2018.01.18  \n",
       "2  Delhi Dynamite   Mumbai Movers     5010608     5002265  2018.01.18  \n",
       "3  Delhi Dynamite   Mumbai Movers     5010608     5045207  2018.01.18  \n",
       "4   Mumbai Movers  Delhi Dynamite     5002265     5024595  2018.01.18  "
      ]
     },
     "execution_count": 54,
     "metadata": {},
     "output_type": "execute_result"
    }
   ],
   "source": [
    "games.head()"
   ]
  },
  {
   "cell_type": "code",
   "execution_count": 61,
   "metadata": {},
   "outputs": [
    {
     "data": {
      "text/plain": [
       "Result\n",
       "0-1        785\n",
       "1-0        973\n",
       "1/2-1/2    499\n",
       "dtype: int64"
      ]
     },
     "execution_count": 61,
     "metadata": {},
     "output_type": "execute_result"
    }
   ],
   "source": [
    "games.groupby('Result').size()"
   ]
  },
  {
   "cell_type": "code",
   "execution_count": 106,
   "metadata": {},
   "outputs": [],
   "source": [
    "def g(x):\n",
    "    s = x['Result']\n",
    "    # return pd.Series({'white': 1 if s == '1-0' else 0,\n",
    "    #                   'black': 1 if s == '0-1' else 0,\n",
    "    #                   'draw': 1 if s == '1/2-1/2' else 0})\n",
    "    return pd.Series([1, 0] if s == '1-0' else [0, 1] if s == '0-1' else [.5, .5], index=['white', 'black'])\n",
    "\n",
    "obs = games.apply(g, axis=1)"
   ]
  },
  {
   "cell_type": "code",
   "execution_count": 107,
   "metadata": {},
   "outputs": [
    {
     "data": {
      "text/html": [
       "<div>\n",
       "<style>\n",
       "    .dataframe thead tr:only-child th {\n",
       "        text-align: right;\n",
       "    }\n",
       "\n",
       "    .dataframe thead th {\n",
       "        text-align: left;\n",
       "    }\n",
       "\n",
       "    .dataframe tbody tr th {\n",
       "        vertical-align: top;\n",
       "    }\n",
       "</style>\n",
       "<table border=\"1\" class=\"dataframe\">\n",
       "  <thead>\n",
       "    <tr style=\"text-align: right;\">\n",
       "      <th></th>\n",
       "      <th>white</th>\n",
       "      <th>black</th>\n",
       "    </tr>\n",
       "  </thead>\n",
       "  <tbody>\n",
       "    <tr>\n",
       "      <th>0</th>\n",
       "      <td>0.0</td>\n",
       "      <td>1.0</td>\n",
       "    </tr>\n",
       "    <tr>\n",
       "      <th>1</th>\n",
       "      <td>1.0</td>\n",
       "      <td>0.0</td>\n",
       "    </tr>\n",
       "    <tr>\n",
       "      <th>2</th>\n",
       "      <td>0.5</td>\n",
       "      <td>0.5</td>\n",
       "    </tr>\n",
       "    <tr>\n",
       "      <th>3</th>\n",
       "      <td>1.0</td>\n",
       "      <td>0.0</td>\n",
       "    </tr>\n",
       "    <tr>\n",
       "      <th>4</th>\n",
       "      <td>0.5</td>\n",
       "      <td>0.5</td>\n",
       "    </tr>\n",
       "  </tbody>\n",
       "</table>\n",
       "</div>"
      ],
      "text/plain": [
       "   white  black\n",
       "0    0.0    1.0\n",
       "1    1.0    0.0\n",
       "2    0.5    0.5\n",
       "3    1.0    0.0\n",
       "4    0.5    0.5"
      ]
     },
     "execution_count": 107,
     "metadata": {},
     "output_type": "execute_result"
    }
   ],
   "source": [
    "obs.head()"
   ]
  },
  {
   "cell_type": "code",
   "execution_count": 108,
   "metadata": {},
   "outputs": [],
   "source": [
    "obs_sum = obs.sum()"
   ]
  },
  {
   "cell_type": "code",
   "execution_count": 109,
   "metadata": {},
   "outputs": [
    {
     "name": "stdout",
     "output_type": "stream",
     "text": [
      "Event                 PRO League Group Stage\n",
      "Site                           chess.com INT\n",
      "Date                              2018.01.18\n",
      "Round                                      1\n",
      "White                     Puranik, Abhimanyu\n",
      "Black                        Gupta, Abhijeet\n",
      "Result                                   0-1\n",
      "WhiteTitle                                GM\n",
      "BlackTitle                                GM\n",
      "WhiteElo                                2520\n",
      "BlackElo                                2610\n",
      "ECO                                      C07\n",
      "Opening                               French\n",
      "Variation      Tarrasch, Eliskases variation\n",
      "WhiteTeam                      Mumbai Movers\n",
      "BlackTeam                     Delhi Dynamite\n",
      "WhiteFideId                          5061245\n",
      "BlackFideId                          5010608\n",
      "EventDate                         2018.01.18\n",
      "Name: 0, dtype: object\n"
     ]
    }
   ],
   "source": [
    "print(games.loc[0])"
   ]
  },
  {
   "cell_type": "code",
   "execution_count": 110,
   "metadata": {},
   "outputs": [],
   "source": [
    "import scipy.optimize"
   ]
  },
  {
   "cell_type": "code",
   "execution_count": 111,
   "metadata": {},
   "outputs": [],
   "source": [
    "def fun(x):\n",
    "    white_advantage = x[0]\n",
    "    draw_odds_advantage = x[1]\n",
    "    elo = Elo(white_advantage, draw_odds_advantage)\n",
    "    elo_prob = games.apply(lambda x: pd.Series(elo.probabilities(int(x['WhiteElo']), int(x['BlackElo']))), axis=1)\n",
    "    return ((elo_prob['white'] - obs['white'])**2).sum()\n",
    "    # return ((elo_prob.sum() - obs_sum)**2).sum()"
   ]
  },
  {
   "cell_type": "code",
   "execution_count": 112,
   "metadata": {},
   "outputs": [
    {
     "data": {
      "text/plain": [
       "429.31214779958771"
      ]
     },
     "execution_count": 112,
     "metadata": {},
     "output_type": "execute_result"
    }
   ],
   "source": [
    "fun([.2, .6])"
   ]
  },
  {
   "cell_type": "code",
   "execution_count": 113,
   "metadata": {},
   "outputs": [
    {
     "name": "stdout",
     "output_type": "stream",
     "text": [
      "CPU times: user 2min 6s, sys: 624 ms, total: 2min 7s\n",
      "Wall time: 2min 7s\n"
     ]
    }
   ],
   "source": [
    "%%time\n",
    "res = scipy.optimize.minimize(fun, [.2, .6], bounds=[(0, 1), (0, 1)])"
   ]
  },
  {
   "cell_type": "code",
   "execution_count": 114,
   "metadata": {},
   "outputs": [
    {
     "data": {
      "text/plain": [
       "      fun: 360.35635314676324\n",
       " hess_inv: <2x2 LbfgsInvHessProduct with dtype=float64>\n",
       "      jac: array([-0.5824063 , -2.30830892])\n",
       "  message: b'ABNORMAL_TERMINATION_IN_LNSRCH'\n",
       "     nfev: 159\n",
       "      nit: 5\n",
       "   status: 2\n",
       "  success: False\n",
       "        x: array([ 0.51106858,  0.39786358])"
      ]
     },
     "execution_count": 114,
     "metadata": {},
     "output_type": "execute_result"
    }
   ],
   "source": [
    "res"
   ]
  },
  {
   "cell_type": "code",
   "execution_count": 95,
   "metadata": {},
   "outputs": [],
   "source": [
    "def gun(x):\n",
    "    white_advantage = x[0]\n",
    "    draw_odds_advantage = x[1]\n",
    "    elo = Elo(white_advantage, draw_odds_advantage)\n",
    "    elo_prob = games.apply(lambda x: pd.Series(elo.probabilities(int(x['WhiteElo']), int(x['BlackElo']))), axis=1)\n",
    "    # return elo_prob['white'] - obs['white']\n",
    "    return (elo_prob.sum() - obs_sum)"
   ]
  },
  {
   "cell_type": "code",
   "execution_count": 96,
   "metadata": {},
   "outputs": [
    {
     "data": {
      "text/plain": [
       " active_mask: array([0, 0])\n",
       "        cost: 25185.09308870028\n",
       "         fun: array([-175.04769935,   40.57898518,  134.46871417])\n",
       "        grad: array([ 28395707.35384861,     71718.42016977])\n",
       "         jac: array([[-91613.73718262,   -589.12627411],\n",
       "       [  -423.39063263,   1178.25256348],\n",
       "       [ 92037.1275177 ,   -589.12641907]])\n",
       "     message: '`xtol` termination condition is satisfied.'\n",
       "        nfev: 28\n",
       "        njev: 12\n",
       "  optimality: 11700669.766041616\n",
       "      status: 3\n",
       "     success: True\n",
       "           x: array([ 0.4120577 ,  0.44094882])"
      ]
     },
     "execution_count": 96,
     "metadata": {},
     "output_type": "execute_result"
    }
   ],
   "source": [
    "scipy.optimize.least_squares(gun, [.2, .6], bounds=[[0, 0], [1, 1]])"
   ]
  },
  {
   "cell_type": "code",
   "execution_count": 97,
   "metadata": {},
   "outputs": [
    {
     "data": {
      "text/plain": [
       "Result\n",
       "0-1        785\n",
       "1-0        973\n",
       "1/2-1/2    499\n",
       "dtype: int64"
      ]
     },
     "execution_count": 97,
     "metadata": {},
     "output_type": "execute_result"
    }
   ],
   "source": [
    "games.groupby('Result').size()"
   ]
  },
  {
   "cell_type": "code",
   "execution_count": 115,
   "metadata": {},
   "outputs": [],
   "source": [
    "# elo = Elo(0.51106858, 0.39786358)\n",
    "elo = Elo(0.37397392,  0.39493437)\n"
   ]
  },
  {
   "cell_type": "code",
   "execution_count": 116,
   "metadata": {},
   "outputs": [
    {
     "data": {
      "text/plain": [
       "black     643.515960\n",
       "draw      499.639735\n",
       "white    1113.844304\n",
       "dtype: float64"
      ]
     },
     "execution_count": 116,
     "metadata": {},
     "output_type": "execute_result"
    }
   ],
   "source": [
    "games.apply(lambda x: pd.Series(elo.probabilities(int(x['WhiteElo']), int(x['BlackElo']))), axis=1).sum()"
   ]
  },
  {
   "cell_type": "code",
   "execution_count": 83,
   "metadata": {},
   "outputs": [
    {
     "data": {
      "text/plain": [
       "black    785\n",
       "draw     499\n",
       "white    973\n",
       "dtype: int64"
      ]
     },
     "execution_count": 83,
     "metadata": {},
     "output_type": "execute_result"
    }
   ],
   "source": [
    "obs.sum() # - games.apply(lambda x: pd.Series(elo.probabilities(int(x['WhiteElo']), int(x['BlackElo']))), axis=1).sum()"
   ]
  },
  {
   "cell_type": "code",
   "execution_count": 117,
   "metadata": {},
   "outputs": [
    {
     "data": {
      "text/plain": [
       "black     589.700004\n",
       "draw      447.190432\n",
       "white    1220.109565\n",
       "dtype: float64"
      ]
     },
     "execution_count": 117,
     "metadata": {},
     "output_type": "execute_result"
    }
   ],
   "source": [
    "elo = Elo(0.51106858,  0.39786358)\n",
    "games.apply(lambda x: pd.Series(elo.probabilities(int(x['WhiteElo']), int(x['BlackElo']))), axis=1).sum()"
   ]
  },
  {
   "cell_type": "code",
   "execution_count": 118,
   "metadata": {},
   "outputs": [
    {
     "data": {
      "text/plain": [
       "black     606.567848\n",
       "draw      580.809036\n",
       "white    1069.623116\n",
       "dtype: float64"
      ]
     },
     "execution_count": 118,
     "metadata": {},
     "output_type": "execute_result"
    }
   ],
   "source": [
    "elo = Elo(0.39266867, 0.46936407)\n",
    "games.apply(lambda x: pd.Series(elo.probabilities(int(x['WhiteElo']), int(x['BlackElo']))), axis=1).sum()"
   ]
  },
  {
   "cell_type": "code",
   "execution_count": null,
   "metadata": {},
   "outputs": [],
   "source": []
  }
 ],
 "metadata": {
  "kernelspec": {
   "display_name": "Python 3",
   "language": "python",
   "name": "python3"
  },
  "language_info": {
   "codemirror_mode": {
    "name": "ipython",
    "version": 3
   },
   "file_extension": ".py",
   "mimetype": "text/x-python",
   "name": "python",
   "nbconvert_exporter": "python",
   "pygments_lexer": "ipython3",
   "version": "3.6.0"
  }
 },
 "nbformat": 4,
 "nbformat_minor": 2
}
